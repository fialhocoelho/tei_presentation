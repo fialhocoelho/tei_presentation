{
 "cells": [
  {
   "cell_type": "markdown",
   "metadata": {
    "slideshow": {
     "slide_type": "slide"
    }
   },
   "source": [
    "# Python + HPC\n",
    "### Jefferson Fialho Coelho\n",
    "### 17200455 - ADS - Noite\n",
    "\n"
   ]
  },
  {
   "cell_type": "markdown",
   "metadata": {
    "slideshow": {
     "slide_type": "slide"
    }
   },
   "source": [
    "### Agenda\n",
    "\n",
    "* HPC\n",
    "    * HPC Cluster Architecture\n",
    "    * Parallel programming and CPU ark\n",
    "    * Vectorization\n",
    "* Python\n",
    "    * A little bit about language\n",
    "    * GIL\n",
    "    * Experiments\n",
    "        * numexp\n",
    "* Final explanations\n",
    "* When am I going to use this thing in my life?\n",
    "* Career and opportunities\n"
   ]
  },
  {
   "cell_type": "markdown",
   "metadata": {
    "slideshow": {
     "slide_type": "slide"
    }
   },
   "source": [
    "# HPC\n",
    "## High Performance Computing\n",
    "\n",
    "The practice of aggregating **computing power** in a way that **delivers much higher performance** than one could get out of a typical desktop computer or workstation in order to solve large **problems in science**, **engineering**, or **business**.\n",
    "\n",
    "\n"
   ]
  },
  {
   "cell_type": "markdown",
   "metadata": {
    "slideshow": {
     "slide_type": "fragment"
    }
   },
   "source": [
    "### HPC Cluster Architecture\n",
    "\n",
    "![title](img/HPC-cluster-architecture.png)"
   ]
  },
  {
   "cell_type": "markdown",
   "metadata": {
    "slideshow": {
     "slide_type": "subslide"
    }
   },
   "source": [
    "## Parallel programming\n",
    "\n",
    "![title](img/parallel.png)"
   ]
  },
  {
   "cell_type": "markdown",
   "metadata": {
    "slideshow": {
     "slide_type": "subslide"
    }
   },
   "source": [
    "### CPU ark example\n",
    "\n",
    "![title](img/tile.png)"
   ]
  },
  {
   "cell_type": "markdown",
   "metadata": {
    "slideshow": {
     "slide_type": "subslide"
    }
   },
   "source": [
    "# Vectorization\n",
    "\n",
    "![title](https://datascience.blog.wzb.eu/wp-content/uploads/10/2018/02/vectorization.png)"
   ]
  },
  {
   "cell_type": "markdown",
   "metadata": {
    "slideshow": {
     "slide_type": "subslide"
    }
   },
   "source": [
    "### [ TOP 1 = SUMMIT: DOE/SC/OAK RIDGE NATIONAL LABORATORY](https://www.top500.org/resources/top-systems/summit-doescoak-ridge-national-laboratory/)\n",
    "### TOP500.org\n",
    "\n",
    "![title](img/summit-supercomputer-800x450.jpg)"
   ]
  },
  {
   "cell_type": "markdown",
   "metadata": {
    "slideshow": {
     "slide_type": "slide"
    }
   },
   "source": [
    "![title](https://sempreupdate.com.br/wp-content/uploads/2018/12/python.jpg)"
   ]
  },
  {
   "cell_type": "markdown",
   "metadata": {
    "slideshow": {
     "slide_type": "subslide"
    }
   },
   "source": [
    "### Python\n",
    "\n",
    "* Created by **Guido van Rossum** and first released in **1991**\n",
    "* Python as a programming language has enjoyed nearly a decade of usage in both **industry and academia**\n",
    "* **Interpreted, high-level, general-purpose programming language**\n",
    "* This **high-productivity language** has been one of the most popular abstractions to **scientific computing** and **machine learning**\n",
    "    * Yet the base Python language remains **single-threaded** =(\n",
    "\n",
    "* The language's core philosophy ([The Zen of Python](https://www.python.org/dev/peps/pep-0020/)):\n",
    "    * **Beautiful** is better than ugly\n",
    "    * **Explicit** is better than implicit\n",
    "    * **Simple** is better than complex\n",
    "    * **Complex** is better than complicated\n",
    "    * **Readability** counts\n",
    "    \n",
    "## Just how is productivity in these fields being maintained with a single-threaded language?"
   ]
  },
  {
   "cell_type": "markdown",
   "metadata": {
    "slideshow": {
     "slide_type": "subslide"
    }
   },
   "source": [
    "## The reason is the level of abstraction the language design adopted. \n",
    "\n",
    "* It ships with many tools to wrap C code\n",
    "* It prefers multiprocessing over multithreading in the base language (multiprocessing package in the native Python library)\n",
    "* The community has adopted the paradigm to dispatch to higher-speed C-based libraries, and has become the preferred method to implement parallelism in Python (e.g. Intel® MKL, OpenBLAS) \n",
    "\n",
    "##  GIL\n",
    "* The **Global Interpreter Lock**, or [GIL](https://wiki.python.org/moin/GlobalInterpreterLock), is a mutex that **protects access** to Python objects, **preventing multiple threads** from executing Python bytecodes at once. \n",
    "* This lock is necessary mainly because **CPython's memory management is not thread-safe**.\n",
    "\n",
    "## How to cheat? 🤔"
   ]
  },
  {
   "cell_type": "markdown",
   "metadata": {
    "slideshow": {
     "slide_type": "subslide"
    }
   },
   "source": [
    "![title](img/python-gil-visualization.png)"
   ]
  },
  {
   "cell_type": "markdown",
   "metadata": {
    "slideshow": {
     "slide_type": "slide"
    }
   },
   "source": [
    "# Experiments\n"
   ]
  },
  {
   "cell_type": "markdown",
   "metadata": {
    "slideshow": {
     "slide_type": "fragment"
    }
   },
   "source": [
    "## NumExpr 2.0\n",
    "\n",
    "The numexpr package supplies routines for the fast evaluation of array expressions elementwise by using a vectorization."
   ]
  },
  {
   "cell_type": "code",
   "execution_count": 26,
   "metadata": {
    "slideshow": {
     "slide_type": "subslide"
    }
   },
   "outputs": [],
   "source": [
    "import math\n",
    "import sys\n",
    "import numexpr as ne\n",
    "import time\n",
    "import matplotlib.pyplot as plt\n",
    "import numpy as np\n",
    "\n",
    "# 10⁶ values between -1.0 and 1.0\n",
    "x = np.linspace(-1., 1., int(1e6))\n",
    "\n",
    "# Function to calc sin (serial)\n",
    "def calc_single(x,i):\n",
    "    for i in range(i):\n",
    "        sin = np.sin(2.*np.pi*x)\n",
    "    return sin\n",
    "\n",
    "# Function to calc sin (parallel)\n",
    "def calc_parallel(x,i):\n",
    "    pi = np.pi\n",
    "    for i in range(i):\n",
    "        sin = ne.evaluate('sin(2*pi*x)',\n",
    "                          optimization = 'aggressive')\n",
    "    return sin\n"
   ]
  },
  {
   "cell_type": "code",
   "execution_count": 27,
   "metadata": {
    "slideshow": {
     "slide_type": "subslide"
    }
   },
   "outputs": [
    {
     "name": "stdout",
     "output_type": "stream",
     "text": [
      "10.8 s ± 123 ms per loop (mean ± std. dev. of 7 runs, 1 loop each)\n"
     ]
    },
    {
     "data": {
      "text/plain": [
       "[<matplotlib.lines.Line2D at 0x7fe84e52d198>]"
      ]
     },
     "execution_count": 27,
     "metadata": {},
     "output_type": "execute_result"
    },
    {
     "data": {
      "image/png": "[encoded data removed]",
      "text/plain": [
       "<Figure size 432x288 with 1 Axes>"
      ]
     },
     "metadata": {
      "needs_background": "light"
     },
     "output_type": "display_data"
    }
   ],
   "source": [
    "# Get time of 500 serial runs of sin calc\n",
    "%timeit calc_single(x,500)\n",
    "\n",
    "# Plot an example of sin\n",
    "plt.plot(x, calc_single(x,1))"
   ]
  },
  {
   "cell_type": "code",
   "execution_count": 28,
   "metadata": {
    "slideshow": {
     "slide_type": "subslide"
    }
   },
   "outputs": [
    {
     "name": "stdout",
     "output_type": "stream",
     "text": [
      "268 ms ± 3.93 ms per loop (mean ± std. dev. of 7 runs, 1 loop each)\n"
     ]
    },
    {
     "data": {
      "text/plain": [
       "[<matplotlib.lines.Line2D at 0x7fe84e24cda0>]"
      ]
     },
     "execution_count": 28,
     "metadata": {},
     "output_type": "execute_result"
    },
    {
     "data": {
      "image/png": "[encoded data removed]",
      "text/plain": [
       "<Figure size 432x288 with 1 Axes>"
      ]
     },
     "metadata": {
      "needs_background": "light"
     },
     "output_type": "display_data"
    }
   ],
   "source": [
    "# Get time of 500 parallel runs of sin calc\n",
    "%timeit calc_parallel(x,500)\n",
    "\n",
    "# Plot an example of sin\n",
    "plt.plot(x, calc_parallel(x,1))"
   ]
  },
  {
   "cell_type": "markdown",
   "metadata": {
    "slideshow": {
     "slide_type": "slide"
    }
   },
   "source": [
    "## How does numexpr achieve nearly a 25x speedup?\n",
    "\n",
    "* **Vectorization commands** from the vector math library in Intel MKL. \n",
    "* The entire computation **stays in low-level** code before completing and **returning the result** back to the **Python layer**. \n",
    "* This method also **avoids multiple trips through the Python interpreter**, cutting down on single-threaded sections while also providing a concise syntax."
   ]
  },
  {
   "cell_type": "markdown",
   "metadata": {
    "slideshow": {
     "slide_type": "slide"
    }
   },
   "source": [
    "## Final explanations\n",
    "\n",
    "* ⬆ Complex, but **simple** (concise)\n",
    "* ⬆ **Easy to learn** (?)\n",
    "* ⬆ **Readable** documentation\n",
    "* ⬆ It's possible to extract **high performance**\n",
    "* ⬇ **black-box** (some situations)"
   ]
  },
  {
   "cell_type": "markdown",
   "metadata": {
    "slideshow": {
     "slide_type": "fragment"
    }
   },
   "source": [
    "## When am I going to use this thing in my life?"
   ]
  },
  {
   "cell_type": "markdown",
   "metadata": {
    "slideshow": {
     "slide_type": "subslide"
    }
   },
   "source": [
    "## When am I going to use this thing in my life?\n",
    "![title](https://i.imgur.com/U4SezaC.png)"
   ]
  },
  {
   "cell_type": "markdown",
   "metadata": {
    "slideshow": {
     "slide_type": "subslide"
    }
   },
   "source": [
    "![title](img/salt.png)"
   ]
  },
  {
   "cell_type": "markdown",
   "metadata": {
    "slideshow": {
     "slide_type": "subslide"
    }
   },
   "source": [
    "## [Video: ai rough sketches realistic landscapes gaugan](https://mashable.com/video/ai-rough-sketches-realistic-landscapes-gaugan/)"
   ]
  },
  {
   "cell_type": "markdown",
   "metadata": {
    "slideshow": {
     "slide_type": "slide"
    }
   },
   "source": [
    "# Career and opportunities\n"
   ]
  },
  {
   "cell_type": "markdown",
   "metadata": {
    "slideshow": {
     "slide_type": "subslide"
    }
   },
   "source": [
    "![title](https://www.daxx.com/uploads/most-wanted-languages-in-programming-usa-201820181106.png)\n",
    "[Source: stackoverflow 2018 survey](https://insights.stackoverflow.com/survey/2018/)"
   ]
  },
  {
   "cell_type": "markdown",
   "metadata": {
    "slideshow": {
     "slide_type": "subslide"
    }
   },
   "source": [
    "![title](img/js.png)\n",
    "[Source: Glassdoor](https://www.glassdoor.com/Salaries/javascript-developer-salary-SRCH_KO0,20.htm)"
   ]
  },
  {
   "cell_type": "markdown",
   "metadata": {
    "slideshow": {
     "slide_type": "subslide"
    }
   },
   "source": [
    "![title](https://www.daxx.com/uploads/average-salary-for-python-developers-by-state20181116.png)\n",
    "[Source: DAXX](https://www.daxx.com/blog/development-trends/python-developer-salary-usa)"
   ]
  },
  {
   "cell_type": "markdown",
   "metadata": {
    "slideshow": {
     "slide_type": "subslide"
    }
   },
   "source": [
    "## Brazil - Average Python developer salaries (per month)\n",
    "\n",
    "![title](img/pysalario.png)\n",
    "[Source: Lovemondays](https://www.lovemondays.com.br/salarios/cargo/salario-desenvolvedor-python)"
   ]
  },
  {
   "cell_type": "markdown",
   "metadata": {
    "slideshow": {
     "slide_type": "subslide"
    }
   },
   "source": [
    "## Brazil - Job position salaries (per month)\n",
    "\n",
    "![title](img/pytabela.png)\n",
    "[Source: Lovemondays](https://www.lovemondays.com.br/salarios/cargo/salario-desenvolvedor-python)"
   ]
  },
  {
   "cell_type": "markdown",
   "metadata": {
    "slideshow": {
     "slide_type": "slide"
    }
   },
   "source": [
    "# Presentation source \n",
    "## github:\n",
    "\n",
    "* [http://tiny.cc/tei_jeff](http://tiny.cc/tei_jeff)"
   ]
  },
  {
   "cell_type": "markdown",
   "metadata": {
    "slideshow": {
     "slide_type": "slide"
    }
   },
   "source": [
    "# TKS! 🤙\n"
   ]
  }
 ],
 "metadata": {
  "celltoolbar": "Slideshow",
  "kernelspec": {
   "display_name": "Python [conda env:jeff-default]",
   "language": "python",
   "name": "conda-env-jeff-default-py"
  },
  "language_info": {
   "codemirror_mode": {
    "name": "ipython",
    "version": 3
   },
   "file_extension": ".py",
   "mimetype": "text/x-python",
   "name": "python",
   "nbconvert_exporter": "python",
   "pygments_lexer": "ipython3",
   "version": "3.6.8"
  }
 },
 "nbformat": 4,
 "nbformat_minor": 2
}
